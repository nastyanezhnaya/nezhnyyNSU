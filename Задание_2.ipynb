{
  "nbformat": 4,
  "nbformat_minor": 0,
  "metadata": {
    "colab": {
      "provenance": []
    },
    "kernelspec": {
      "name": "python3",
      "display_name": "Python 3"
    },
    "language_info": {
      "name": "python"
    }
  },
  "cells": [
    {
      "cell_type": "markdown",
      "source": [
        "1.Сортировка в обратном порядке"
      ],
      "metadata": {
        "id": "OrF12pf42QyK"
      }
    },
    {
      "cell_type": "code",
      "execution_count": 37,
      "metadata": {
        "id": "CTuxC2A4zm2s",
        "colab": {
          "base_uri": "https://localhost:8080/"
        },
        "outputId": "b053cdc9-f748-4c58-f5a8-1e9c8ead6a3b"
      },
      "outputs": [
        {
          "output_type": "stream",
          "name": "stdout",
          "text": [
            "3\n",
            "15\n",
            "78\n",
            "6\n",
            "[15, 78, 6]\n",
            "[6, 15, 78]\n",
            "[78, 15, 6]\n"
          ]
        }
      ],
      "source": [
        "lst = int(input())\n",
        "list = []\n",
        "for i in range(lst):\n",
        "    line = (int(input()))\n",
        "    list.append(line)\n",
        "print(list)\n",
        "list.sort()\n",
        "print (list)\n",
        "list.reverse()\n",
        "print (list)"
      ]
    },
    {
      "cell_type": "markdown",
      "source": [
        "2.Фильтр\n",
        "(не получается с ###&%^^^^)"
      ],
      "metadata": {
        "id": "WPwFxzIxAhF3"
      }
    },
    {
      "cell_type": "code",
      "source": [
        "a = int(input())\n",
        "for i in range(a):\n",
        "    line = input()\n",
        "    if \"%\" in line:\n",
        "        print(line.replace('%',''))\n",
        "    elif not line.startswith('###'):\n",
        "        print (line)"
      ],
      "metadata": {
        "colab": {
          "base_uri": "https://localhost:8080/"
        },
        "id": "1muABSJZAlnu",
        "outputId": "320fe665-2842-4419-f354-88a4fe1e0f14"
      },
      "execution_count": 19,
      "outputs": [
        {
          "output_type": "stream",
          "name": "stdout",
          "text": [
            "3\n",
            "SVO TRS 29481292\n",
            "SVO TRS 29481292\n",
            "%%LJPZ DME 11113283675\n",
            "LJPZ DME 11113283675\n",
            "###&%^^^^\n",
            "###&^^^^\n"
          ]
        }
      ]
    },
    {
      "cell_type": "markdown",
      "source": [
        "3.От и до"
      ],
      "metadata": {
        "id": "xzWzUDQT488a"
      }
    },
    {
      "cell_type": "code",
      "source": [
        "N = int(input( \"Количество чисел: \" ))\n",
        "s = [int(input()) for i in range(N)]\n",
        "p = int(input(( \"p: \" )))\n",
        "q = int(input(( \"q: \" )))\n",
        "print( \"Cумма: \", (sum(s[p - 1:q])))"
      ],
      "metadata": {
        "colab": {
          "base_uri": "https://localhost:8080/"
        },
        "id": "TLe_qKU24_U8",
        "outputId": "01facdb8-3f9c-4d71-de81-24b88c767eee"
      },
      "execution_count": 28,
      "outputs": [
        {
          "output_type": "stream",
          "name": "stdout",
          "text": [
            "Количество чисел: 5\n",
            "100\n",
            "222\n",
            "300\n",
            "444\n",
            "500\n",
            "p: 2\n",
            "q: 4\n",
            "Cумма:  966\n"
          ]
        }
      ]
    },
    {
      "cell_type": "markdown",
      "source": [
        "4 Список отличников. (Ну не получается никак вывести просто фамилии....)"
      ],
      "metadata": {
        "id": "g6pF2o1V7UQ6"
      }
    },
    {
      "cell_type": "code",
      "source": [
        "def Artek():\n",
        "    r = input('Ученики:')\n",
        "    n=int(input('Количество мест:'))\n",
        "    r_dict = dict((a.strip(), int(b.strip()))\n",
        "                for a, b in (element.split(' ')\n",
        "                             for element in r.split(', ')))\n",
        "\n",
        "    sorted_r = sorted(r_dict.items(), key=lambda item: (-item[1], item[0]))\n",
        "    print('Едут:',sorted_r[0:n])\n",
        "\n",
        "Artek ()"
      ],
      "metadata": {
        "colab": {
          "base_uri": "https://localhost:8080/"
        },
        "id": "hRKDCjHfg3t5",
        "outputId": "d93ab4f8-02dd-4a92-9b1b-82430703c670"
      },
      "execution_count": 78,
      "outputs": [
        {
          "output_type": "stream",
          "name": "stdout",
          "text": [
            "Ученики:Сидоров 3, Смирнова 5, Самойкин 4, Емельянов 2, Кац 5, Вдовиченко 5, Северин 4, Субботкин 5\n",
            "Количество мест:3\n",
            "Едут: [('Вдовиченко', 5), ('Кац', 5), ('Смирнова', 5)]\n"
          ]
        }
      ]
    }
  ]
}