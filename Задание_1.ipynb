{
  "nbformat": 4,
  "nbformat_minor": 0,
  "metadata": {
    "colab": {
      "provenance": []
    },
    "kernelspec": {
      "name": "python3",
      "display_name": "Python 3"
    },
    "language_info": {
      "name": "python"
    }
  },
  "cells": [
    {
      "cell_type": "markdown",
      "source": [
        "1)Вспомнить всё: if"
      ],
      "metadata": {
        "id": "-w9SZVwF4ECt"
      }
    },
    {
      "cell_type": "code",
      "execution_count": 24,
      "metadata": {
        "colab": {
          "base_uri": "https://localhost:8080/"
        },
        "id": "3zAkB58m3vQ1",
        "outputId": "c7d71943-3b1a-4a5f-a663-3646b7698fc2"
      },
      "outputs": [
        {
          "output_type": "stream",
          "name": "stdout",
          "text": [
            "Температура: 18\n",
            "норм\n"
          ]
        }
      ],
      "source": [
        "t = float (input( \"Температура: \" ))\n",
        "if t < 15.5 :\n",
        "    print (\"ХОЛОДНО\")\n",
        "if t > 28 :\n",
        "    print (\"ЖАРКО капец\")\n",
        "if t > 15.5 and t < 28 :\n",
        "    print (\"норм\")"
      ]
    },
    {
      "cell_type": "markdown",
      "source": [
        "2)Найди кота - моя жалкая попытка (знаю, что неправильно, но копировать из интернета не вижу смысла... я пыталась понять, откуда и зачем там \"к\" = 0 или 1, но ничего не вышло)"
      ],
      "metadata": {
        "id": "u-odqaSgP7wh"
      }
    },
    {
      "cell_type": "code",
      "source": [
        "a = int(input())\n",
        "for i in range(0, a):\n",
        "    line = str(input())\n",
        "    if \"Кот\" in line or \"кот\" in line:\n",
        "        print(\"МЯУ\")\n",
        "    else:\n",
        "        print(\"НЕТ\")"
      ],
      "metadata": {
        "colab": {
          "base_uri": "https://localhost:8080/"
        },
        "id": "22rmK5lqLKmw",
        "outputId": "c0b2a9fe-d453-4367-9dd1-b35a86aadaea"
      },
      "execution_count": 61,
      "outputs": [
        {
          "output_type": "stream",
          "name": "stdout",
          "text": [
            "3\n",
            "скот\n",
            "МЯУ\n",
            "поворот\n",
            "НЕТ\n",
            "котенок\n",
            "МЯУ\n"
          ]
        }
      ]
    },
    {
      "cell_type": "markdown",
      "source": [
        "3)Слова и буквы"
      ],
      "metadata": {
        "id": "WpjPIPR6QUMx"
      }
    },
    {
      "cell_type": "markdown",
      "source": [
        "4)Список покупок"
      ],
      "metadata": {
        "id": "PQ6nMV3WbC7r"
      }
    },
    {
      "cell_type": "code",
      "source": [
        "a = int(input())\n",
        "list = []\n",
        "for i in range(a):\n",
        " line = input()\n",
        " list.append(line)\n",
        "for i in range(a):\n",
        " print(list[i])"
      ],
      "metadata": {
        "colab": {
          "base_uri": "https://localhost:8080/"
        },
        "id": "BTdBRtXUoc4N",
        "outputId": "e6b30fd8-0341-4119-c236-70bf6f2d45ff"
      },
      "execution_count": 93,
      "outputs": [
        {
          "output_type": "stream",
          "name": "stdout",
          "text": [
            "3\n",
            "шоколад\n",
            "водка\n",
            "сосиски\n",
            "шоколад\n",
            "водка\n",
            "сосиски\n"
          ]
        }
      ]
    },
    {
      "cell_type": "markdown",
      "source": [
        "5)Ххооллоодд"
      ],
      "metadata": {
        "id": "9MZEV6D0bHUf"
      }
    },
    {
      "cell_type": "code",
      "source": [
        "word = input()\n",
        "for i in word:\n",
        "    print(2*i, end='')"
      ],
      "metadata": {
        "colab": {
          "base_uri": "https://localhost:8080/"
        },
        "id": "UdxucjRBbJvy",
        "outputId": "600fad29-8561-42eb-eb2e-78f7f7c19841"
      },
      "execution_count": 89,
      "outputs": [
        {
          "output_type": "stream",
          "name": "stdout",
          "text": [
            "нежность\n",
            "ннеежжннооссттьь"
          ]
        }
      ]
    },
    {
      "cell_type": "markdown",
      "source": [
        "6) Формальное приветствие"
      ],
      "metadata": {
        "id": "viA9agwCXKt6"
      }
    },
    {
      "cell_type": "code",
      "source": [
        "name = input ( 'name:')\n",
        "surname = input ( 'surname:')\n",
        "def greet(name):\n",
        "    print(f\"Hello, {name} {surname}!\")\n",
        "greet(name)"
      ],
      "metadata": {
        "colab": {
          "base_uri": "https://localhost:8080/"
        },
        "id": "ArfEp7BpV7fs",
        "outputId": "71f4de99-e227-4e3d-8c29-36b5cc98d162"
      },
      "execution_count": 122,
      "outputs": [
        {
          "output_type": "stream",
          "name": "stdout",
          "text": [
            "name:nastya\n",
            "surname:nezhnaya\n",
            "Hello, nastya nezhnaya!\n"
          ]
        }
      ]
    },
    {
      "cell_type": "markdown",
      "source": [
        "7*)Маленький колокольчик("
      ],
      "metadata": {
        "id": "s4cufpEecvan"
      }
    },
    {
      "cell_type": "code",
      "source": [
        "from solution import LittleBell\n",
        "\n",
        "bell = LittleBell()\n",
        "bell.sound()\n"
      ],
      "metadata": {
        "colab": {
          "base_uri": "https://localhost:8080/",
          "height": 366
        },
        "id": "vm2r-vVXsV-w",
        "outputId": "b2636c6e-e9d0-471d-f600-a507bada8351"
      },
      "execution_count": 121,
      "outputs": [
        {
          "output_type": "error",
          "ename": "ImportError",
          "evalue": "ignored",
          "traceback": [
            "\u001b[0;31m---------------------------------------------------------------------------\u001b[0m",
            "\u001b[0;31mImportError\u001b[0m                               Traceback (most recent call last)",
            "\u001b[0;32m<ipython-input-121-03e49dde1cbd>\u001b[0m in \u001b[0;36m<cell line: 1>\u001b[0;34m()\u001b[0m\n\u001b[0;32m----> 1\u001b[0;31m \u001b[0;32mfrom\u001b[0m \u001b[0msolution\u001b[0m \u001b[0;32mimport\u001b[0m \u001b[0mLittleBell\u001b[0m\u001b[0;34m\u001b[0m\u001b[0;34m\u001b[0m\u001b[0m\n\u001b[0m\u001b[1;32m      2\u001b[0m \u001b[0;34m\u001b[0m\u001b[0m\n\u001b[1;32m      3\u001b[0m \u001b[0mbell\u001b[0m \u001b[0;34m=\u001b[0m \u001b[0mLittleBell\u001b[0m\u001b[0;34m(\u001b[0m\u001b[0;34m)\u001b[0m\u001b[0;34m\u001b[0m\u001b[0;34m\u001b[0m\u001b[0m\n\u001b[1;32m      4\u001b[0m \u001b[0mbell\u001b[0m\u001b[0;34m.\u001b[0m\u001b[0msound\u001b[0m\u001b[0;34m(\u001b[0m\u001b[0;34m)\u001b[0m\u001b[0;34m\u001b[0m\u001b[0;34m\u001b[0m\u001b[0m\n",
            "\u001b[0;31mImportError\u001b[0m: cannot import name 'LittleBell' from 'solution' (/content/solution.py)",
            "",
            "\u001b[0;31m---------------------------------------------------------------------------\u001b[0;32m\nNOTE: If your import is failing due to a missing package, you can\nmanually install dependencies using either !pip or !apt.\n\nTo view examples of installing some common dependencies, click the\n\"Open Examples\" button below.\n\u001b[0;31m---------------------------------------------------------------------------\u001b[0m\n"
          ],
          "errorDetails": {
            "actions": [
              {
                "action": "open_url",
                "actionText": "Open Examples",
                "url": "/notebooks/snippets/importing_libraries.ipynb"
              }
            ]
          }
        }
      ]
    },
    {
      "cell_type": "markdown",
      "source": [
        "8)Остаточные знания"
      ],
      "metadata": {
        "id": "N4ZcDcGl2Eue"
      }
    },
    {
      "cell_type": "markdown",
      "source": [
        "\n",
        "Мы создавали сайты в школе, информатика мне всегда нравилась, давалась легче, чем одноклассникам, я всегда была той, к кому обращаются за помощью и все прочее... Трудностей не было, пока я не начала делать эти задания. Я гуманитарий, именно Python для меня темный лес, так что пока я пыталась разобраться, что от меня хотят, как это вообще работает, несколько раз расплакалась... Я не представляю, как можно давать такие задания и расчитвать на их выполнение, если перед этим не объяснить основы основ... Тем более, что для прохождения курса не было заявлено, что нужна какая-то база знаний.. Я понимаю, что мы теперь самостоятельно должны в основном учиться, и если бы вы разжевывали каждую мелочь, то курс бы длился гораздо дольше, но может.. хотя бы дайте проверенный учебник/сайт, где есть эта основа.. фундамент, с которого можно начать. Извините, если что не так сказала, просто уже не вывожу, очень горько, когда что-то интересует по-настоящему, а разобраться получается с огромным трудом, слезами и затратами времени, которого нет из-за диплома и прочей учебы. (сдаваться я не собираюсь, доступа к компьютеру, к сожалению, у меня не будет все праздники, но теорию я точно попытаюсь почитать/посмотреть)"
      ],
      "metadata": {
        "id": "TgAcZaT62HXZ"
      }
    }
  ]
}